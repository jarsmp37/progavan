{
 "cells": [
  {
   "cell_type": "markdown",
   "id": "bb01a555",
   "metadata": {},
   "source": [
    "recomendación\n",
    "\n",
    "Crear una carpeta que contenga sus bases de datos, y en sus programas verificar que se jalen esas bases de datos de esas carpetas"
   ]
  },
  {
   "cell_type": "code",
   "execution_count": null,
   "id": "a6850ac8",
   "metadata": {},
   "outputs": [],
   "source": [
    "pyinstaller --onefile --windowed --add-data \"datos/*.csv;datos\" main.py"
   ]
  }
 ],
 "metadata": {
  "language_info": {
   "name": "python"
  }
 },
 "nbformat": 4,
 "nbformat_minor": 5
}
