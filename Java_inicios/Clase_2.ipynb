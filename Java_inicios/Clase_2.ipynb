{
 "cells": [
  {
   "cell_type": "markdown",
   "metadata": {},
   "source": [
    "# Condicional `if` en Java\n",
    "\n",
    "El condicional `if` es una estructura de control que permite ejecutar un bloque de código **solo si se cumple una condición específica**. Si la condición es verdadera (`true`), se ejecuta el bloque de código dentro del `if`; de lo contrario, se omite.\n",
    "\n",
    "---\n",
    "\n",
    "## Sintaxis básica del `if`\n"
   ]
  },
  {
   "cell_type": "code",
   "execution_count": null,
   "metadata": {},
   "outputs": [],
   "source": [
    "\n",
    "if (condición) {\n",
    "    // Bloque de código que se ejecuta si la condición es verdadera\n",
    "}"
   ]
  },
  {
   "cell_type": "code",
   "execution_count": null,
   "metadata": {},
   "outputs": [],
   "source": [
    "public class Main {\n",
    "    public static void main(String[] args) {\n",
    "        int numero = 10;\n",
    "\n",
    "        if (numero > 0) {\n",
    "            System.out.println(\"El número es positivo.\");\n",
    "        }\n",
    "    }\n",
    "}\n"
   ]
  },
  {
   "cell_type": "markdown",
   "metadata": {},
   "source": [
    "## Condicional `if-else` en Java\n",
    "\n",
    "El condicional `if-else` en Java permite ejecutar un bloque de código si la condición es verdadera y otro bloque si la condición es falsa. Su estructura es la siguiente:\n",
    "\n",
    "```java\n",
    "if (condición) {\n",
    "    // Código que se ejecuta si la condición es verdadera\n",
    "} else {\n",
    "    // Código que se ejecuta si la condición es falsa\n",
    "}\n"
   ]
  },
  {
   "cell_type": "code",
   "execution_count": null,
   "metadata": {},
   "outputs": [],
   "source": [
    "public class Main {\n",
    "    public static void main(String[] args) {\n",
    "        int numero = -5;\n",
    "\n",
    "        if (numero > 0) {\n",
    "            System.out.println(\"El número es positivo.\");\n",
    "        } else {\n",
    "            System.out.println(\"El número es negativo o cero.\");\n",
    "        }\n",
    "    }\n",
    "}\n"
   ]
  },
  {
   "cell_type": "markdown",
   "metadata": {},
   "source": [
    "## Condicional `if-else if-else` en Java\n",
    "\n",
    "Cuando se tienen múltiples condiciones, se puede utilizar la estructura `if-else if-else`. Esto permite evaluar varias condiciones en orden y ejecutar el bloque de código correspondiente a la primera condición verdadera. Su estructura es la siguiente:\n",
    "\n",
    "```java\n",
    "if (condición1) {\n",
    "    // Código que se ejecuta si condición1 es verdadera\n",
    "} else if (condición2) {\n",
    "    // Código que se ejecuta si condición1 es falsa y condición2 es verdadera\n",
    "} else {\n",
    "    // Código que se ejecuta si ninguna de las condiciones anteriores es verdadera\n",
    "}\n"
   ]
  },
  {
   "cell_type": "code",
   "execution_count": null,
   "metadata": {},
   "outputs": [],
   "source": [
    "import java.util.Scanner;\n",
    "\n",
    "public class UsoIf {\n",
    "    public static void main(String[] args) {\n",
    "        Scanner leer=new Scanner(System.in);\n",
    "        System.out.println(\"Introduce un número: \");\n",
    "        int numero = leer.nextInt();\n",
    "\n",
    "        if (numero > 0) {\n",
    "            System.out.println(\"El número es positivo.\");\n",
    "        } else if (numero < 0) {\n",
    "            System.out.println(\"El número es negativo.\");\n",
    "        } else {\n",
    "            System.out.println(\"El número es cero.\");\n",
    "        }   \n",
    "    }   \n",
    "}"
   ]
  },
  {
   "cell_type": "markdown",
   "metadata": {},
   "source": [
    "## Condicional `switch` en Java\n",
    "\n",
    "El `switch` en Java se usa cuando se necesita comparar una variable con múltiples valores posibles. En lugar de usar múltiples `if-else if`, el `switch` proporciona una forma más organizada y eficiente de manejar múltiples casos.\n",
    "\n",
    "### Sintaxis:\n",
    "\n",
    "```java\n",
    "switch (variable) {\n",
    "    case valor1:\n",
    "        // Código a ejecutar si variable es igual a valor1\n",
    "        break;\n",
    "    case valor2:\n",
    "        // Código a ejecutar si variable es igual a valor2\n",
    "        break;\n",
    "    default:\n",
    "        // Código a ejecutar si ninguno de los casos anteriores coincide\n",
    "}\n"
   ]
  },
  {
   "cell_type": "code",
   "execution_count": null,
   "metadata": {},
   "outputs": [],
   "source": [
    "public class Main {\n",
    "    public static void main(String[] args) {\n",
    "        int dia = 3;\n",
    "\n",
    "        switch (dia) {\n",
    "            case 1:\n",
    "                System.out.println(\"Lunes\");\n",
    "                break;\n",
    "            case 2:\n",
    "                System.out.println(\"Martes\");\n",
    "                break;\n",
    "            case 3:\n",
    "                System.out.println(\"Miércoles\");\n",
    "                break;\n",
    "            case 4:\n",
    "                System.out.println(\"Jueves\");\n",
    "                break;\n",
    "            case 5:\n",
    "                System.out.println(\"Viernes\");\n",
    "                break;\n",
    "            case 6:\n",
    "                System.out.println(\"Sábado\");\n",
    "                break;\n",
    "            case 7:\n",
    "                System.out.println(\"Domingo\");\n",
    "                break;\n",
    "            default:\n",
    "                System.out.println(\"Número de día no válido\");\n",
    "        }\n",
    "    }\n",
    "}\n"
   ]
  },
  {
   "cell_type": "markdown",
   "metadata": {},
   "source": [
    "## Ejercicio: Uso de `if` y `else if` con Operadores Lógicos\n",
    "\n",
    "### Instrucciones:\n",
    "Imagina que estás creando un sistema para evaluar a los estudiantes de la carrera de Ciencias de la Computación. El sistema debe verificar si un estudiante ha cumplido con los requisitos para pasar el curso de Programación Avanzada. Para aprobar el curso, un estudiante debe:\n",
    "- Tener una calificación mayor o igual a 6.\n",
    "- Haber entregado todos los proyectos.\n",
    "- Asistir al menos al 80% de las clases.\n",
    "\n",
    "Escribe un programa en Java que:\n",
    "1. Pida al usuario ingresar su calificación final (un número entre 0 y 10).\n",
    "2. Pida al usuario ingresar si ha entregado todos los proyectos (sí o no).\n",
    "3. Pida al usuario ingresar el porcentaje de clases asistidas.\n",
    "4. Use `if` y `else if` con operadores lógicos (`&&` y `||`) para determinar si el estudiante ha aprobado o no el curso.\n",
    "\n",
    "### Condiciones:\n",
    "- Si la calificación es mayor o igual a 6 **y** el estudiante ha entregado todos los proyectos **y** asistido al menos al 80% de las clases, el estudiante aprueba.\n",
    "- Si la calificación es mayor o igual a 6 **pero** no ha entregado todos los proyectos, el estudiante tiene que hacer un trabajo extra.\n",
    "- Si la calificación es menor a 6 **o** ha asistido a menos del 80% de las clases, el estudiante reprueba.\n",
    "\n",
    "### Ejemplo de uso de operadores lógicos:\n",
    "- El operador `&&` se usa para comprobar que todas las condiciones sean verdaderas.\n",
    "- El operador `||` se usa cuando se quiere que al menos una de las condiciones sea verdadera.\n"
   ]
  },
  {
   "cell_type": "code",
   "execution_count": null,
   "metadata": {},
   "outputs": [],
   "source": [
    "import java.util.Scanner;\n",
    "public class EjercicioComp {\n",
    "\n",
    "    public static void main(String[] args) {\n",
    "        Scanner leer=new Scanner(System.in);\n",
    "        System.out.println(\"Dame tu calificación final en entero del 0 al 10: \");\n",
    "        int calif=leer.nextInt();\n",
    "        \n",
    "        leer.nextLine();\n",
    "        System.out.println(\"Has entregado todos los proyectos? (si o no): \");\n",
    "        String proyectos=leer.next();\n",
    "        \n",
    "        System.out.println(\"Cuál es tu porcentaje en entero de asistencia?: \");\n",
    "        int asistencia=leer.nextInt();\n",
    "        \n",
    "        if (calif>=6 && proyectos.equals(\"si\") && asistencia>=80){\n",
    "            System.out.println(\"Felicidades aprobaste el curso\");\n",
    "        }\n",
    "        else if(calif>=6 && proyectos.equals(\"no\")){\n",
    "            System.out.println(\"Tienes derecho a un trabajo extra\");\n",
    "        }\n",
    "        else if(calif<6 || asistencia<80){\n",
    "            System.out.println(\"El estudiante no aprueba la materia\");\n",
    "        }\n",
    "    }\n",
    "}"
   ]
  },
  {
   "cell_type": "markdown",
   "metadata": {},
   "source": [
    "## Ejercicio 2: Uso de `switch` con Estudiantes de Computación\n",
    "\n",
    "### Instrucciones:\n",
    "Imagina que estás desarrollando una aplicación para estudiantes de la carrera de Ciencias de la Computación, donde, al ingresar su número de avance (un número entre 1 y 5), el sistema les asigna un reto tecnológico personalizado basado en su nivel de conocimiento. Cada número de matrícula representa un nivel de habilidad en programación y desarrollo de software.\n",
    "\n",
    "Escribe un programa en Java que:\n",
    "1. Pida al usuario ingresar un número entre 1 y 5, representando el nivel de habilidad del estudiante.\n",
    "2. Use un `switch` para asignar un reto tecnológico y un mensaje personalizado según el nivel ingresado.\n",
    "\n",
    "### Los niveles y los retos asignados son:\n",
    "- 1: Nivel Principiante – Reto: \"Desarrolla tu primer programa en Java.\"\n",
    "- 2: Nivel Intermedio – Reto: \"Crea una calculadora simple usando Java.\"\n",
    "- 3: Nivel Avanzado – Reto: \"Implementa un algoritmo de búsqueda eficiente.\"\n",
    "- 4: Nivel Experto – Reto: \"Crea una aplicación web usando Spring Boot.\"\n",
    "- 5: Nivel Maestría – Reto: \"Desarrolla una inteligencia artificial que resuelva problemas complejos de programación.\"\n",
    "\n",
    "El mensaje debe incluir el nivel y el reto correspondiente para motivar al estudiante a seguir aprendiendo y superándose.\n"
   ]
  },
  {
   "cell_type": "code",
   "execution_count": null,
   "metadata": {},
   "outputs": [],
   "source": [
    "package javaapplication20;\n",
    "import java.util.Scanner;\n",
    "public class JavaApplication20 {\n",
    "\n",
    "    public static void main(String[] args) {\n",
    "        Scanner leer=new Scanner(System.in);\n",
    "        System.out.println(\"Dame tu número de avance(1-5):\");\n",
    "        int avance=leer.nextInt();\n",
    "        \n",
    "        switch(avance){\n",
    "            case 1:\n",
    "                System.out.println(\"Nivel Principiante – Reto: \\\"Desarrolla tu primer programa en Java.\\\"\");\n",
    "                break;\n",
    "            case 2:\n",
    "                System.out.println(\"Nivel Intermedio – Reto: \\\"Crea una calculadora simple usando Java.\\\"\");\n",
    "                break;\n",
    "            case 3:\n",
    "                System.out.println(\"Nivel Avanzado – Reto: \\\"Implementa un algoritmo de búsqueda eficiente.\\\"\");\n",
    "                break;\n",
    "            case 4:\n",
    "                System.out.println(\"Nivel Experto – Reto: \\\"Crea una aplicación web usando Spring Boot.\\\"\");\n",
    "                break;\n",
    "            case 5:\n",
    "                System.out.println(\"Nivel Maestría – Reto: \\\"Desarrolla una inteligencia artificial \"\n",
    "                        + \"que resuelva problemas complejos de programación.\\\"\");\n",
    "                break;\n",
    "            default:\n",
    "                System.out.println(\"Metiste un número no válido\");\n",
    "        }\n",
    "    }\n",
    "    \n",
    "}\n"
   ]
  },
  {
   "cell_type": "markdown",
   "metadata": {},
   "source": [
    "## Operador Ternario en Java\n",
    "\n",
    "### Explicación:\n",
    "\n",
    "El operador ternario en Java es una forma compacta de escribir una estructura condicional `if-else`. Se utiliza para asignar un valor a una variable en función de una condición de manera más concisa.\n",
    "\n",
    "La sintaxis básica del operador ternario es:\n",
    "\n",
    "```java\n",
    "condición ? valor_si_verdadero : valor_si_falso;\n"
   ]
  },
  {
   "cell_type": "code",
   "execution_count": null,
   "metadata": {},
   "outputs": [],
   "source": [
    "if (calificacion >= 70) {\n",
    "    resultado = \"Aprobado\";\n",
    "} else {\n",
    "    resultado = \"Reprobado\";\n",
    "}\n"
   ]
  },
  {
   "cell_type": "code",
   "execution_count": null,
   "metadata": {},
   "outputs": [],
   "source": [
    "resultado = (calificacion >= 70) ? \"Aprobado\" : \"Reprobado\";"
   ]
  },
  {
   "cell_type": "markdown",
   "metadata": {},
   "source": [
    "## Código Completo con Operador Ternario\n",
    "\n",
    "### Explicación:\n",
    "A continuación te dejo el código completo con el operador ternario que puedes ejecutar sin problemas. Este ejemplo verifica si un estudiante está en un nivel avanzado de su carrera, dependiendo del semestre que cursa.\n",
    "\n",
    "```java\n",
    "import java.util.Scanner;\n",
    "\n",
    "public class Main {\n",
    "    public static void main(String[] args) {\n",
    "        // Crear un objeto Scanner para leer la entrada del usuario\n",
    "        Scanner scanner = new Scanner(System.in);\n",
    "\n",
    "        // Solicitar al usuario ingresar el semestre\n",
    "        System.out.print(\"Ingresa el semestre en el que estás (1-8): \");\n",
    "        int semestre = scanner.nextInt();\n",
    "\n",
    "        // Usar operador ternario para determinar el nivel\n",
    "        String nivel = (semestre >= 4) ? \"Nivel avanzado\" : \"Nivel básico\";\n",
    "\n",
    "        // Mostrar el resultado\n",
    "        System.out.println(\"Estás en: \" + nivel);\n",
    "    }\n",
    "}\n"
   ]
  }
 ],
 "metadata": {
  "language_info": {
   "name": "python"
  }
 },
 "nbformat": 4,
 "nbformat_minor": 2
}
