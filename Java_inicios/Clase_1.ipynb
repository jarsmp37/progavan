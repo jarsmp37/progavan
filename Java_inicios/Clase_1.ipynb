{
 "cells": [
  {
   "cell_type": "markdown",
   "metadata": {},
   "source": [
    "## Los códigos vistos ejecútalos en entorno de java, en estos documentos solo será las explicaciones y te dará la teoria para ocuparlo en java"
   ]
  },
  {
   "cell_type": "markdown",
   "metadata": {},
   "source": [
    "Inicios código hola mundo"
   ]
  },
  {
   "cell_type": "code",
   "execution_count": null,
   "metadata": {},
   "outputs": [],
   "source": [
    "public class HolaMundo {\n",
    "    public static void main(String[] args) {\n",
    "        System.out.println(\"¡Hola, Mundo!\");\n",
    "    }\n",
    "}"
   ]
  },
  {
   "cell_type": "markdown",
   "metadata": {},
   "source": [
    "# Explicación del código\n",
    "\n",
    "## 1. public class HolaMundo\n",
    "- **public**: Indica que la clase es accesible desde cualquier otro lugar del programa.\n",
    "- **class**: Define una clase en Java. Una clase es una plantilla o un plano para crear objetos.\n",
    "- **HolaMundo**: Es el nombre de la clase. En Java, el nombre de la clase debe coincidir con el nombre del archivo (`HolaMundo.java`).\n",
    "\n",
    "## 2. public static void main(String[] args)\n",
    "- **public**: Indica que el método `main` es accesible desde fuera de la clase.\n",
    "- **static**: Significa que el método `main` pertenece a la clase y no a una instancia específica. Esto permite que la JVM lo llame sin crear un objeto de la clase.\n",
    "- **void**: Indica que el método no devuelve ningún valor.\n",
    "- **main**: Es el nombre del método. La JVM busca este método específicamente para iniciar la ejecución del programa.\n",
    "- **(String[] args)**: Es la lista de parámetros del método. `String[] args` es un arreglo de cadenas que permite pasar argumentos al programa desde la línea de comandos.\n",
    "\n",
    "## 3. System.out.println(\"¡Hola, Mundo!\");\n",
    "- **System**: Es una clase predefinida en Java que proporciona acceso al sistema.\n",
    "- **out**: Es un objeto de la clase `PrintStream` que representa la salida estándar (normalmente la consola).\n",
    "- **println**: Es un método de la clase `PrintStream` que imprime una línea de texto en la consola y agrega un salto de línea al final.\n",
    "- **\"¡Hola, Mundo!\"**: Es la cadena de texto que se imprime en la consola.\n",
    "\n",
    "## Estructura general\n",
    "1. **Clase**: `HolaMundo` es la clase principal del programa.\n",
    "2. **Método `main`**: Es el punto de entrada del programa. La JVM comienza la ejecución aquí.\n",
    "3. **Instrucción `System.out.println`**: Imprime el mensaje \"¡Hola, Mundo!\" en la consola."
   ]
  },
  {
   "cell_type": "code",
   "execution_count": null,
   "metadata": {},
   "outputs": [],
   "source": [
    "#Puedes poner de abreviatura\n",
    "sout y dar tabulador para obtener el System.out.println(\"\")"
   ]
  },
  {
   "cell_type": "markdown",
   "metadata": {},
   "source": [
    "# Variables y Constantes en Java\n",
    "\n",
    "En Java, las **variables** y **constantes** se utilizan para almacenar datos. A continuación, se explica su uso y diferencias.\n",
    "\n",
    "---\n",
    "\n",
    "## Variables\n",
    "\n",
    "- Una **variable** es un espacio en memoria que almacena un valor que puede cambiar durante la ejecución del programa.\n",
    "- Para declarar una variable, se usa la siguiente sintaxis:\n",
    "\n",
    "  ```java\n",
    "  tipo nombreVariable = valor;"
   ]
  },
  {
   "cell_type": "markdown",
   "metadata": {},
   "source": [
    "# Constantes \n",
    "En Java, las **constantes** son valores que no pueden cambiar después de su inicialización. Se declaran usando la palabra clave `final`. A continuación, se explica su uso.\n",
    "\n",
    "## Sintaxis para declarar una constante\n",
    "\n",
    "- **final**: Indica que el valor no puede cambiar.\n",
    "- **tipo**: Es el tipo de dato de la constante (por ejemplo, `int`, `double`, `String`, etc.).\n",
    "- **NOMBRE_CONSTANTE**: Es el nombre de la constante. Por convención, se escribe en MAYÚSCULAS y las palabras se separan con guiones bajos (`_`).\n",
    "- **valor**: Es el valor inicial que se asigna a la constante.\n",
    "\n",
    "\n",
    "final tipo NOMBRE_CONSTANTE = valor;"
   ]
  },
  {
   "cell_type": "code",
   "execution_count": null,
   "metadata": {},
   "outputs": [],
   "source": [
    "public class VariablesYConstantes {\n",
    "    public static void main(String[] args) {\n",
    "        // Declaración de una variable\n",
    "        int edad = 25;\n",
    "        System.out.println(\"Edad: \" + edad);\n",
    "\n",
    "        // Modificación de una variable\n",
    "        edad = 30;\n",
    "        System.out.println(\"Nueva edad: \" + edad);\n",
    "\n",
    "        // Declaración de una constante\n",
    "        final double PI = 3.1416;\n",
    "        System.out.println(\"Valor de PI: \" + PI);\n",
    "\n",
    "        // Intentar modificar una constante (esto generará un error)\n",
    "        // PI = 3.14; // Error: No se puede asignar un valor a una constante\n",
    "    }\n",
    "}"
   ]
  },
  {
   "cell_type": "markdown",
   "metadata": {},
   "source": [
    "# Tipos de datos en Java\n",
    "\n",
    "En Java, los **tipos de datos** definen el tipo de valor que una variable puede almacenar. Se dividen en dos categorías principales: **primitivos** y **no primitivos (referencia)**. A continuación, se explica cada uno.\n",
    "\n",
    "---\n",
    "\n",
    "## Tipos de datos primitivos\n",
    "\n",
    "Los tipos de datos primitivos son los bloques básicos de almacenamiento en Java. Tienen un tamaño fijo y almacenan valores directamente.\n",
    "\n",
    "- **byte**: Entero de 8 bits. Rango: -128 a 127.\n",
    "- **short**: Entero de 16 bits. Rango: -32,768 a 32,767.\n",
    "- **int**: Entero de 32 bits. Rango: -2^31 a 2^31-1.\n",
    "- **long**: Entero de 64 bits. Rango: -2^63 a 2^63-1.\n",
    "- **float**: Número decimal de 32 bits. Precisión simple.\n",
    "- **double**: Número decimal de 64 bits. Precisión doble.\n",
    "- **char**: Carácter Unicode de 16 bits. Rango: 0 a 65,535.\n",
    "- **boolean**: Valor booleano. Solo puede ser `true` o `false`."
   ]
  },
  {
   "cell_type": "markdown",
   "metadata": {},
   "source": [
    "## Tipos de datos no primitivos\n",
    "\n",
    "- **String**: Cadena de caracteres.\n",
    "- **Arrays**: Arreglos de cualquier tipo de dato.\n",
    "- **Clases**: Objetos definidos por el usuario o por Java (por ejemplo, `Integer`, `Double`, etc.).\n",
    "- **Interfaces**: Contratos que definen métodos que una clase debe implementar."
   ]
  },
  {
   "cell_type": "code",
   "execution_count": null,
   "metadata": {},
   "outputs": [],
   "source": [
    "public class TiposDeDatos {\n",
    "    public static void main(String[] args) {\n",
    "        // Tipos de datos primitivos\n",
    "        byte miByte = 100;\n",
    "        short miShort = 1000;\n",
    "        int miInt = 100000;\n",
    "        long miLong = 1000000000L;\n",
    "        float miFloat = 3.14f;\n",
    "        double miDouble = 3.1415926535;\n",
    "        char miChar = 'A';\n",
    "        boolean miBoolean = true;\n",
    "\n",
    "        // Tipos de datos no primitivos\n",
    "        String miString = \"Hola, Mundo!\";\n",
    "        \n",
    "\n",
    "        // Mostrar valores\n",
    "        System.out.println(\"byte: \" + miByte);\n",
    "        System.out.println(\"short: \" + miShort);\n",
    "        System.out.println(\"int: \" + miInt);\n",
    "        System.out.println(\"long: \" + miLong);\n",
    "        System.out.println(\"float: \" + miFloat);\n",
    "        System.out.println(\"double: \" + miDouble);\n",
    "        System.out.println(\"char: \" + miChar);\n",
    "        System.out.println(\"boolean: \" + miBoolean);\n",
    "        System.out.println(\"String: \" + miString);\n",
    "        \n",
    "    }\n",
    "}"
   ]
  },
  {
   "cell_type": "markdown",
   "metadata": {},
   "source": [
    "# Operadores en Java\n",
    "\n",
    "En Java, los **operadores** son símbolos que realizan operaciones sobre variables y valores. Se clasifican en varios tipos según su funcionalidad. A continuación, se explica cada uno.\n",
    "\n",
    "---\n",
    "\n",
    "## Tipos de operadores\n",
    "\n",
    "### 1. Operadores aritméticos\n",
    "Realizan operaciones matemáticas básicas.\n",
    "\n",
    "\n",
    "- **+**: Suma.\n",
    "- **-**: Resta.\n",
    "- **\\***: Multiplicación.\n",
    "- **/**: División.\n",
    "- **%**: Módulo (resto de la división)."
   ]
  },
  {
   "cell_type": "markdown",
   "metadata": {},
   "source": [
    "- **=**: Asignación simple.\n",
    "- **+=**: Suma y asignación.\n",
    "- **-=**: Resta y asignación.\n",
    "- **\\*=**: Multiplicación y asignación.\n",
    "- **/=**: División y asignación.\n",
    "- **%=**: Módulo y asignación."
   ]
  },
  {
   "cell_type": "markdown",
   "metadata": {},
   "source": [
    "- **==**: Igual a.\n",
    "- **!=**: No igual a.\n",
    "- **>**: Mayor que.\n",
    "- **<**: Menor que.\n",
    "- **>=**: Mayor o igual que.\n",
    "- **<=**: Menor o igual que."
   ]
  },
  {
   "cell_type": "markdown",
   "metadata": {},
   "source": [
    "- **&&**: AND lógico (ambas condiciones deben ser verdaderas).\n",
    "- **||**: OR lógico (al menos una condición debe ser verdadera).\n",
    "- **!**: NOT lógico (invierte el valor booleano)."
   ]
  },
  {
   "cell_type": "markdown",
   "metadata": {},
   "source": [
    "- **++**: Incremento (aumenta en 1).\n",
    "- **--**: Decremento (disminuye en 1)."
   ]
  },
  {
   "cell_type": "markdown",
   "metadata": {},
   "source": [
    "- **&**: AND a nivel de bits.\n",
    "- **|**: OR a nivel de bits.\n",
    "- **^**: XOR a nivel de bits.\n",
    "- **~**: NOT a nivel de bits.\n",
    "- **<<**: Desplazamiento a la izquierda.\n",
    "- **>>**: Desplazamiento a la derecha con signo.\n",
    "- **>>>**: Desplazamiento a la derecha sin signo."
   ]
  },
  {
   "cell_type": "code",
   "execution_count": null,
   "metadata": {},
   "outputs": [],
   "source": [
    "public class Operadores {\n",
    "    public static void main(String[] args) {\n",
    "        // Operadores aritméticos\n",
    "        int a = 10, b = 5;\n",
    "        System.out.println(\"Suma: \" + (a + b));\n",
    "        System.out.println(\"Resta: \" + (a - b));\n",
    "        System.out.println(\"Multiplicación: \" + (a * b));\n",
    "        System.out.println(\"División: \" + (a / b));\n",
    "        System.out.println(\"Módulo: \" + (a % b));\n",
    "\n",
    "        // Operadores de asignación\n",
    "        int c = 10;\n",
    "        c += 5; // Equivalente a c = c + 5\n",
    "        System.out.println(\"c += 5: \" + c);\n",
    "\n",
    "        // Operadores de comparación\n",
    "        System.out.println(\"a > b: \" + (a > b));\n",
    "\n",
    "        // Operadores lógicos\n",
    "        boolean x = true, y = false;\n",
    "        System.out.println(\"x && y: \" + (x && y));\n",
    "\n",
    "        // Operadores de incremento y decremento\n",
    "        int d = 10;\n",
    "        d++; // Incremento\n",
    "        System.out.println(\"d++: \" + d);\n",
    "\n",
    "        // Operadores de bits\n",
    "        int e = 5; // 0101 en binario\n",
    "        int f = 3; // 0011 en binario\n",
    "        System.out.println(\"e & f: \" + (e & f)); // AND a nivel de bits\n",
    "    }\n",
    "}"
   ]
  },
  {
   "cell_type": "markdown",
   "metadata": {},
   "source": [
    "# Uso de la clase `Scanner` en Java\n",
    "\n",
    "La clase `Scanner` en Java se utiliza para leer la entrada del usuario desde la consola. Pertenece al paquete `java.util` y permite leer diferentes tipos de datos, como enteros, cadenas, decimales, etc.\n",
    "\n",
    "---\n",
    "\n",
    "## Sintaxis básica\n",
    "\n",
    "Para usar `Scanner`, primero debes importar la clase y luego crear un objeto de tipo `Scanner`.\n",
    "\n"
   ]
  },
  {
   "cell_type": "markdown",
   "metadata": {},
   "source": [
    "- **nextInt()**: Lee un número entero.\n",
    "- **nextDouble()**: Lee un número decimal.\n",
    "- **nextLine()**: Lee una línea completa de texto (String).\n",
    "- **next()**: Lee una palabra (String hasta el primer espacio).\n",
    "- **nextBoolean()**: Lee un valor booleano (`true` o `false`)."
   ]
  },
  {
   "cell_type": "code",
   "execution_count": null,
   "metadata": {},
   "outputs": [],
   "source": [
    "import java.util.Scanner;\n",
    "\n",
    "public class EjemploScanner {\n",
    "    public static void main(String[] args) {\n",
    "        // Crear un objeto Scanner\n",
    "        Scanner scanner = new Scanner(System.in);\n",
    "\n",
    "        // Leer un número entero\n",
    "        System.out.print(\"Ingresa tu edad: \");\n",
    "        int edad = scanner.nextInt();\n",
    "\n",
    "        // Leer un número decimal\n",
    "        System.out.print(\"Ingresa tu altura (en metros): \");\n",
    "        double altura = scanner.nextDouble();\n",
    "\n",
    "        // Limpiar el buffer (necesario después de nextInt o nextDouble)\n",
    "        scanner.nextLine();\n",
    "\n",
    "        // Leer una línea de texto\n",
    "        System.out.print(\"Ingresa tu nombre: \");\n",
    "        String nombre = scanner.nextLine();\n",
    "\n",
    "        // Leer una palabra\n",
    "        System.out.print(\"Ingresa tu ciudad: \");\n",
    "        String ciudad = scanner.next();\n",
    "\n",
    "        // Mostrar los datos ingresados\n",
    "        System.out.println(\"\\nDatos ingresados:\");\n",
    "        System.out.println(\"Nombre: \" + nombre);\n",
    "        System.out.println(\"Edad: \" + edad);\n",
    "        System.out.println(\"Altura: \" + altura);\n",
    "        System.out.println(\"Ciudad: \" + ciudad);\n",
    "\n",
    "        // Cerrar el Scanner\n",
    "        scanner.close();\n",
    "    }\n",
    "}"
   ]
  },
  {
   "cell_type": "markdown",
   "metadata": {},
   "source": [
    "# Ejercicio: Calculadora de Índice de Masa Corporal (IMC)\n",
    "\n",
    "## Descripción del ejercicio\n",
    "\n",
    "El **Índice de Masa Corporal (IMC)** es una medida que se utiliza para determinar si una persona tiene un peso saludable en relación con su altura. El IMC se calcula con la siguiente fórmula:\n",
    "\n",
    "$$\n",
    "\\text{IMC} = \\frac{\\text{Peso (kg)}}{\\text{(Altura (m))}^2}\n",
    "$$\n",
    "\n",
    "El programa debe:\n",
    "1. Pedir Nombre\n",
    "2. Pedir al usuario su peso (en kilogramos) y su altura (en metros).\n",
    "3. Calcular el IMC.\n",
    "\n",
    "\n",
    "## Requisitos\n",
    "\n",
    "- Usar la clase `Scanner` para leer la entrada del usuario.\n",
    "- Calcular el IMC utilizando la fórmula proporcionada.\n",
    "- Mostrar el resultado con dos decimales usando `System.out.printf`.\n",
    "\n",
    "---\n",
    "\n",
    "## Ejemplo de ejecución\n",
    "\n",
    "Si el usuario ingresa los siguientes datos:\n",
    "\n",
    "Ingresa tu peso en kilogramos: 70.5\n",
    "\n",
    "Ingresa tu altura en metros: 1.75\n",
    "\n",
    "La salida será:\n",
    "Tu Índice de Masa Corporal (IMC) es: 23.02\n",
    "\n"
   ]
  }
 ],
 "metadata": {
  "kernelspec": {
   "display_name": "Python 3",
   "language": "python",
   "name": "python3"
  },
  "language_info": {
   "codemirror_mode": {
    "name": "ipython",
    "version": 3
   },
   "file_extension": ".py",
   "mimetype": "text/x-python",
   "name": "python",
   "nbconvert_exporter": "python",
   "pygments_lexer": "ipython3",
   "version": "3.12.6"
  }
 },
 "nbformat": 4,
 "nbformat_minor": 2
}
