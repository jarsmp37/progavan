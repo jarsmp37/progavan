{
 "cells": [
  {
   "cell_type": "markdown",
   "metadata": {},
   "source": [
    "# 📌 Programación Orientada a Objetos en Java (OOP)\n",
    "\n",
    "## 🔹 Introducción a OOP\n",
    "La Programación Orientada a Objetos (OOP) es un paradigma de programación basado en la organización del código en **objetos**, que son instancias de **clases**.  \n",
    "En Java, todo se basa en clases y objetos. Una clase es una plantilla que define atributos (propiedades) y métodos (acciones).\n",
    "\n",
    "## 🔹 Creación de una Clase en Java\n",
    "Para definir una clase en Java, usamos la palabra clave `class`.  \n",
    "A continuación, declaramos una clase simple llamada `Persona`:\n",
    "\n",
    "```java\n",
    "// Definición de una clase en Java\n",
    "public class Persona {\n",
    "    // Atributos de la clase\n",
    "    String nombre;\n",
    "    int edad;\n",
    "\n",
    "    // Método de la clase\n",
    "    void saludar() {\n",
    "        System.out.println(\"Hola, mi nombre es \" + nombre);\n",
    "    }\n",
    "}\n"
   ]
  },
  {
   "cell_type": "markdown",
   "metadata": {},
   "source": [
    "# 🚀 Constructores en Java\n",
    "\n",
    "## 📌 ¿Qué es un Constructor?\n",
    "Un **constructor** en Java es un método especial que se ejecuta automáticamente cuando se crea un objeto de una clase.  \n",
    "Se utiliza para inicializar los atributos de un objeto.\n",
    "\n",
    "## 🔹 Reglas de los Constructores:\n",
    "1. **Tienen el mismo nombre que la clase**.\n",
    "2. **No tienen tipo de retorno** (ni siquiera `void`).\n",
    "3. Se ejecutan automáticamente cuando se instancia un objeto.\n",
    "4. Puede haber **más de un constructor** (sobrecarga de constructores).\n",
    "\n",
    "---\n",
    "\n",
    "## 📝 Ejemplo 1: Constructor básico\n",
    "\n",
    "\n"
   ]
  },
  {
   "cell_type": "code",
   "execution_count": null,
   "metadata": {},
   "outputs": [],
   "source": [
    "public class Persona {\n",
    "    String nombre;\n",
    "    int edad;\n",
    "\n",
    "    // Constructor\n",
    "    public Persona(String nombre, int edad) {\n",
    "        this.nombre = nombre;\n",
    "        this.edad = edad;\n",
    "    }\n",
    "\n",
    "    void mostrarInfo() {\n",
    "        System.out.println(\"Nombre: \" + nombre + \", Edad: \" + edad);\n",
    "    }\n",
    "}\n",
    "\n",
    "// Uso del constructor\n",
    "public class Main {\n",
    "    public static void main(String[] args) {\n",
    "        Persona p1 = new Persona(\"Carlos\", 25);\n",
    "        p1.mostrarInfo();\n",
    "    }\n",
    "}"
   ]
  },
  {
   "cell_type": "code",
   "execution_count": null,
   "metadata": {},
   "outputs": [],
   "source": [
    "public class Persona {\n",
    "    String nombre;\n",
    "    int edad;\n",
    "\n",
    "    // Constructor por defecto\n",
    "    public Persona() {\n",
    "        this.nombre = \"Desconocido\";\n",
    "        this.edad = 0;\n",
    "    }\n",
    "\n",
    "    void mostrarInfo() {\n",
    "        System.out.println(\"Nombre: \" + nombre + \", Edad: \" + edad);\n",
    "    }\n",
    "}\n",
    "\n",
    "// Uso del constructor por defecto\n",
    "public class Main {\n",
    "    public static void main(String[] args) {\n",
    "        Persona p1 = new Persona();\n",
    "        p1.mostrarInfo();\n",
    "    }\n",
    "}\n"
   ]
  },
  {
   "cell_type": "markdown",
   "metadata": {},
   "source": [
    "Sobrecarga"
   ]
  },
  {
   "cell_type": "code",
   "execution_count": null,
   "metadata": {},
   "outputs": [],
   "source": [
    "public class Persona {\n",
    "    String nombre;\n",
    "    int edad;\n",
    "\n",
    "    // Constructor con parámetros\n",
    "    public Persona(String nombre, int edad) {\n",
    "        this.nombre = nombre;\n",
    "        this.edad = edad;\n",
    "    }\n",
    "\n",
    "    // Constructor sin parámetros\n",
    "    public Persona() {\n",
    "        this.nombre = \"Invitado\";\n",
    "        this.edad = 18;\n",
    "    }\n",
    "\n",
    "    void mostrarInfo() {\n",
    "        System.out.println(\"Nombre: \" + nombre + \", Edad: \" + edad);\n",
    "    }\n",
    "}\n",
    "\n",
    "// Uso de la sobrecarga de constructores\n",
    "public class Main {\n",
    "    public static void main(String[] args) {\n",
    "        Persona p1 = new Persona(\"Ana\", 22); // Usa el constructor con parámetros\n",
    "        Persona p2 = new Persona(); // Usa el constructor sin parámetros\n",
    "\n",
    "        p1.mostrarInfo();\n",
    "        p2.mostrarInfo();\n",
    "    }\n",
    "}\n"
   ]
  }
 ],
 "metadata": {
  "language_info": {
   "name": "python"
  }
 },
 "nbformat": 4,
 "nbformat_minor": 2
}
